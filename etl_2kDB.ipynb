{
 "cells": [
  {
   "cell_type": "code",
   "execution_count": 5,
   "metadata": {},
   "outputs": [],
   "source": [
    "import requests\n",
    "from bs4 import BeautifulSoup\n",
    "import pandas as pd\n",
    "import re\n",
    "import time"
   ]
  },
  {
   "cell_type": "code",
   "execution_count": 6,
   "metadata": {},
   "outputs": [],
   "source": [
    "def get_soup(url):\n",
    "    # Make a GET request to the website\n",
    "    response = requests.get(\n",
    "        url,\n",
    "        headers={'User-Agent': 'Mozilla/5.0'}\n",
    "    )\n",
    "\n",
    "    return BeautifulSoup(response.content, \"lxml\")"
   ]
  },
  {
   "cell_type": "code",
   "execution_count": 7,
   "metadata": {},
   "outputs": [],
   "source": [
    "season_pages = {\n",
    "    2020:'https://2kdb.net/collections/20',\n",
    "    2021:'https://2kdb.net/collections/21',\n",
    "    2022:'https://2kdb.net/collections/22',\n",
    "    2023:'https://2kdb.net/collections/23',\n",
    "}"
   ]
  },
  {
   "cell_type": "code",
   "execution_count": null,
   "metadata": {},
   "outputs": [],
   "source": [
    "verbose = True\n",
    "\n",
    "for season_year, url in season_pages.items():\n",
    "\n",
    "    if verbose: print(season_year)\n",
    "\n",
    "    rating_all_players = []\n",
    "\n",
    "    soup = get_soup(url)\n",
    "\n",
    "    team_links = soup.find_all('a', {\"class\": 'hover:bg-navbar rounded-xl p-4'})\n",
    "\n",
    "    for link in team_links:\n",
    "        url_team = 'https://2kdb.net'+link['href']\n",
    "        team_name = link['title']\n",
    "        \n",
    "        if verbose: print(team_name)\n",
    "\n",
    "        # Make a GET request to the website\n",
    "        soup_team = get_soup(url_team)\n",
    "        players_team = soup_team.find_all('a')\n",
    "        for player in players_team:\n",
    "            if (re.search('player',player['href']) is not None and player.text==''):\n",
    "                time.sleep(1)\n",
    "                url_player = 'https://2kdb.net'+player['href']\n",
    "\n",
    "                soup_player = get_soup(url_player)\n",
    "                # print(soup_player)\n",
    "                name = soup_player.find('span',{'class':'flex items-center gap-2 font-bold text-3xl'}).text\n",
    "                player_name = re.split('\\d',name)[0]\n",
    "                \n",
    "                if verbose: print(player_name)\n",
    "\n",
    "                stats = soup_player.find_all('div',{'class':'stats'})\n",
    "\n",
    "                rating_dict = {}\n",
    "                rating_dict['Season Year'] = season_year\n",
    "                rating_dict['Team'] = team_name\n",
    "                rating_dict['Player'] = player_name\n",
    "                for rating_whole in stats:\n",
    "                    rating_list = rating_whole.find_all('span')\n",
    "                    # print(rating_list[0].text,rating_list[1].text)\n",
    "                    rating_dict[rating_list[1].text] = rating_list[0].text\n",
    "                rating_all_players.append(rating_dict)\n"
   ]
  },
  {
   "cell_type": "code",
   "execution_count": null,
   "metadata": {},
   "outputs": [],
   "source": [
    "pd.DataFrame(rating_all_players).to_csv('ratings_NBA2k_2020_2023.csv')\n",
    "\n",
    "pd.DataFrame(rating_all_players).head()"
   ]
  }
 ],
 "metadata": {
  "kernelspec": {
   "display_name": "env",
   "language": "python",
   "name": "python3"
  },
  "language_info": {
   "codemirror_mode": {
    "name": "ipython",
    "version": 3
   },
   "file_extension": ".py",
   "mimetype": "text/x-python",
   "name": "python",
   "nbconvert_exporter": "python",
   "pygments_lexer": "ipython3",
   "version": "3.10.12"
  },
  "orig_nbformat": 4
 },
 "nbformat": 4,
 "nbformat_minor": 2
}
