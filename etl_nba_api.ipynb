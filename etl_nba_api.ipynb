{
 "cells": [
  {
   "cell_type": "code",
   "execution_count": 6,
   "metadata": {},
   "outputs": [],
   "source": [
    "import pandas as pd\n",
    "import numpy as np\n",
    "import time\n",
    "\n",
    "from nba_api.stats.endpoints import playercareerstats, scoreboard, commonplayerinfo, boxscoreplayertrackv2, boxscorematchups\n",
    "\n",
    "from nba_api.stats.static import teams,players\n",
    "\n",
    "# Query for the last regular season game where the Pacers were playing\n",
    "from nba_api.stats.endpoints import leaguegamefinder\n",
    "from nba_api.stats.library.parameters import Season, SeasonType, SeasonAll\n",
    "from nba_api.stats.endpoints import playbyplay\n",
    "import pickle"
   ]
  },
  {
   "cell_type": "code",
   "execution_count": 3,
   "metadata": {},
   "outputs": [],
   "source": [
    "season_list = []\n",
    "for year in range(3):\n",
    "    season_list.append('202'+str(year)+'-2'+str(year+1))"
   ]
  },
  {
   "cell_type": "code",
   "execution_count": null,
   "metadata": {},
   "outputs": [],
   "source": [
    "# Get all the NBA teams description\n",
    "nba_teams = teams.get_teams()\n",
    "\n",
    "season_campaign_all_teams_dict = {}\n",
    "df_boxscores = pd.DataFrame()\n",
    "count = 0\n",
    "for selected_season in season_list:    \n",
    "    for team_id in pd.DataFrame(nba_teams)['id']:\n",
    "        time.sleep(1)\n",
    "        campaign_all_teams_dict = {}\n",
    "        print(team_id)\n",
    "        campaign_all_teams_dict[team_id] = leaguegamefinder.LeagueGameFinder(team_id_nullable=team_id,\n",
    "                                    season_nullable=selected_season,\n",
    "                                    season_type_nullable=SeasonType.regular).get_data_frames()[0]\n",
    "\n",
    "        campaign_all_teams_dict[team_id]['TEAM_ADVERSARY_ABBREVIATION'] = campaign_all_teams_dict[team_id]['MATCHUP'].apply(lambda x:x[-3:])\n",
    "        campaign_all_teams_dict[team_id]['WINNER'] = campaign_all_teams_dict[team_id]['WL'].apply(lambda x:x == 'W')\n",
    "        \n",
    "        for game_id in campaign_all_teams_dict[team_id]['GAME_ID']:\n",
    "            match_players_boxscore = boxscoreplayertrackv2.BoxScorePlayerTrackV2(game_id=game_id).get_data_frames()[0]\n",
    "            selected_columns = ['GAME_ID','TEAM_ID','PLAYER_ID','PLAYER_NAME','START_POSITION']\n",
    "            df = match_players_boxscore[selected_columns]\n",
    "            df_boxscores = pd.concat([df_boxscores,match_players_boxscore[selected_columns]], ignore_index=True)\n",
    "\n",
    "    season_campaign_all_teams_dict[selected_season] = campaign_all_teams_dict\n",
    "    break"
   ]
  },
  {
   "cell_type": "code",
   "execution_count": null,
   "metadata": {},
   "outputs": [],
   "source": [
    "# df_boxscores.query(\"GAME_ID == '0022000465' and TEAM_ID == 1610612738\").drop_duplicates()\n",
    "df_boxscores_no_duplicates = df_boxscores.drop_duplicates()\n",
    "\n",
    "df_boxscores_no_duplicates.to_csv('players_formation.csv')\n",
    "\n",
    "with open('season_campaign_all_teams_dict.pickle','wb') as results:\n",
    "    pickle.dump(season_campaign_all_teams_dict, results)\n",
    "\n",
    "df_boxscores_no_duplicates.head()\n",
    "# season_campaign_all_teams_dict['2020-21'][1610612740]\n",
    "# df_boxscores.query(\"GAME_ID == '0022000465'\")\n",
    "# df_boxscores.query(\"TEAM_ID == 1610612738\")\n",
    "# df_boxscores['GAME_ID'].value_counts()"
   ]
  },
  {
   "cell_type": "code",
   "execution_count": null,
   "metadata": {},
   "outputs": [],
   "source": []
  }
 ],
 "metadata": {
  "kernelspec": {
   "display_name": "env",
   "language": "python",
   "name": "python3"
  },
  "language_info": {
   "codemirror_mode": {
    "name": "ipython",
    "version": 3
   },
   "file_extension": ".py",
   "mimetype": "text/x-python",
   "name": "python",
   "nbconvert_exporter": "python",
   "pygments_lexer": "ipython3",
   "version": "3.9.16"
  },
  "orig_nbformat": 4
 },
 "nbformat": 4,
 "nbformat_minor": 2
}
