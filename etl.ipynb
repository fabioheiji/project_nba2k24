{
 "cells": [
  {
   "cell_type": "code",
   "execution_count": 35,
   "metadata": {},
   "outputs": [],
   "source": [
    "import requests\n",
    "from bs4 import BeautifulSoup\n",
    "import pandas as pd\n",
    "import re\n",
    "import time"
   ]
  },
  {
   "cell_type": "code",
   "execution_count": 36,
   "metadata": {},
   "outputs": [],
   "source": [
    "\n",
    "# Define the URL of the website\n",
    "# url = \"https://www.2kratings.com\"\n",
    "url = \"https://www.2kratings.com/\"\n",
    "\n",
    "# Make a GET request to the website\n",
    "response = requests.get(\n",
    "    url,\n",
    "    headers={'User-Agent': 'Mozilla/5.0'}\n",
    "    )"
   ]
  },
  {
   "cell_type": "code",
   "execution_count": 37,
   "metadata": {},
   "outputs": [],
   "source": [
    "# Check if the response is successful\n",
    "# response.status_code\n",
    "soup = BeautifulSoup(response.content, \"lxml\")"
   ]
  },
  {
   "cell_type": "code",
   "execution_count": 38,
   "metadata": {},
   "outputs": [
    {
     "data": {
      "text/plain": [
       "[<a class=\"sidebar-link py-1 mx-1\" href=\"/current-teams\"> <img alt=\"All Current Teams\" class=\"mb-1 lazy\" data-src=\"/wp-content/uploads/NBA-Logo-1.svg\" height=\"20\" src=\"/wp-content/uploads/1x1.png\" title=\"All Current Teams\" width=\"20\"/> <span class=\"align-middle\">All Current NBA Teams</span> </a>,\n",
       " <a class=\"sidebar-link py-1 mx-1\" href=\"https://www.2kratings.com/teams/atlanta-hawks\"> <img alt=\"Atlanta Hawks\" class=\"lazy p-1 pl-0\" data-src=\"https://www.2kratings.com/wp-content/uploads/Atlanta-Hawks-Secondary-Logo.svg\" height=\"24\" src=\"/wp-content/uploads/1x1.png\" title=\"Atlanta Hawks\" width=\"24\"/> Atlanta Hawks </a>,\n",
       " <a class=\"sidebar-link py-1 mx-1\" href=\"https://www.2kratings.com/teams/boston-celtics\"> <img alt=\"Boston Celtics\" class=\"lazy p-1 pl-0\" data-src=\"https://www.2kratings.com/wp-content/uploads/Boston-Celtics-Secondary-Logo.svg\" height=\"24\" src=\"/wp-content/uploads/1x1.png\" title=\"Boston Celtics\" width=\"24\"/> Boston Celtics </a>]"
      ]
     },
     "execution_count": 38,
     "metadata": {},
     "output_type": "execute_result"
    }
   ],
   "source": [
    "team_links = soup.find_all('a', {\"class\": \"sidebar-link py-1 mx-1\"})\n",
    "team_links[:3]"
   ]
  },
  {
   "cell_type": "code",
   "execution_count": null,
   "metadata": {},
   "outputs": [],
   "source": [
    "team_links_list = []\n",
    "rating_player_list = []\n",
    "\n",
    "for team in team_links:\n",
    "    if (re.search('/teams/',team['href'])is not None):\n",
    "        team_links_list.append(team['href'])\n",
    "        team_name = team.find('img')['alt']\n",
    "        print(team_name)\n",
    "\n",
    "        # url_team = team_links_list[0]\n",
    "        url_team = team['href']\n",
    "\n",
    "        # Make a GET request to the website\n",
    "        response_team = requests.get(\n",
    "            url_team,\n",
    "            headers={'User-Agent': 'Mozilla/5.0'}\n",
    "            )\n",
    "        soup_team = BeautifulSoup(response_team.content, \"lxml\")\n",
    "\n",
    "        # find all teaam players\n",
    "        players_spans = soup_team.find_all('span', {\"class\": \"entry-font\"})\n",
    "\n",
    "\n",
    "\n",
    "        for player_span in players_spans:\n",
    "            if (re.search('teams',player_span.find('a')['href']) is None):\n",
    "                \n",
    "                # I wait 1 second per player so I don't have problems with requests\n",
    "                time.sleep(1)\n",
    "                # Make a GET request to the website\n",
    "                url_player = player_span.find('a')['href']\n",
    "                response_player = requests.get(\n",
    "                    url_player,\n",
    "                    headers={'User-Agent': 'Mozilla/5.0'}\n",
    "                    )\n",
    "                soup_player = BeautifulSoup(response_player.content, \"lxml\")\n",
    "                \n",
    "                # list of all the players\n",
    "                rating_player = {}\n",
    "                rating_player['Team Name'] = team_name\n",
    "                rating_player['Player Name'] = player_span.text\n",
    "\n",
    "                for block in soup_player.find_all('ul',{'class':'list-group list-no-bullet'}):\n",
    "                    for item in block.find_all('li'):\n",
    "                        skill = ' '.join(item.text.split()[1:])\n",
    "                        rating_value = item.text.split()[0]\n",
    "                        rating_player[skill] = rating_value\n",
    "                rating_player_list.append(rating_player)\n",
    "                        \n",
    "        "
   ]
  },
  {
   "cell_type": "code",
   "execution_count": null,
   "metadata": {},
   "outputs": [],
   "source": [
    "# team_links\n",
    "# players_spans\n",
    "df = pd.DataFrame(rating_player_list)\n",
    "df.to_csv('ratings_NBA2k24.csv')"
   ]
  }
 ],
 "metadata": {
  "kernelspec": {
   "display_name": "env",
   "language": "python",
   "name": "python3"
  },
  "language_info": {
   "codemirror_mode": {
    "name": "ipython",
    "version": 3
   },
   "file_extension": ".py",
   "mimetype": "text/x-python",
   "name": "python",
   "nbconvert_exporter": "python",
   "pygments_lexer": "ipython3",
   "version": "3.9.16"
  },
  "orig_nbformat": 4
 },
 "nbformat": 4,
 "nbformat_minor": 2
}
